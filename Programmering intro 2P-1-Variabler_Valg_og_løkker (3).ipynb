{
 "cells": [
  {
   "cell_type": "markdown",
   "metadata": {},
   "source": [
    "# Intro programmering\n",
    "Nå skal vi jobbe med programmering.\n",
    "Her er en kjapp introduksjon! Python på 1-2-3!\n",
    "\n",
    "For å skrive noe ut fra programmet vårt bruker vi funksjonen print(). \n",
    "<br> For å kjøre programmet må vi først trykke på boksen med koden, og så trykke på $\"⏯run\"$ oppe på fanen, eller ctrl+enter på tastaturet ( på Windows), (På Mac kan cmd+enter fungere)\n",
    "\n",
    "Kjør programmet nedenfor, hva skjer?"
   ]
  },
  {
   "cell_type": "code",
   "execution_count": 2,
   "metadata": {},
   "outputs": [
    {
     "name": "stdout",
     "output_type": "stream",
     "text": [
      "Python på 1-2-3!\n"
     ]
    }
   ],
   "source": [
    "print(\"Python på 1-2-3!\")"
   ]
  },
  {
   "cell_type": "markdown",
   "metadata": {},
   "source": [
    "# Oppgave:\n",
    "<br> Endre programmet ovenfor til å si: *Hello world!*"
   ]
  },
  {
   "cell_type": "markdown",
   "metadata": {},
   "source": [
    "## Tekst og tall i python\n",
    "I python skriver vi inn tekst med å bruke \" før og etter teksten. <br>\n",
    "Tall skriver vi rett inn. \n",
    "\n",
    "4 er altså tallet 4.  <br>\n",
    "\"4\" er en tekst, av tallet 4.\n",
    "\n",
    "Grunnen til at vi må bruke \" før tekst er noe som heter variabler. \n",
    "\n",
    "## Variabler\n",
    "I python kan vi lagre tekst og tall inn i variabler. Da kan vi bruke de andre steder i programmet vårt.\n",
    "Vi kan og endre hva vi har i variabelen vår, da endrer vi *verdien* til variabelen. <br>\n",
    "\n",
    "En variabel har et navn, f.eks tall, navn eller hypotenus\n",
    "\n",
    "Vi kan  skrive ut verdien til en variabel i programmet vårt med print\n"
   ]
  },
  {
   "cell_type": "code",
   "execution_count": 1,
   "metadata": {},
   "outputs": [
    {
     "name": "stdout",
     "output_type": "stream",
     "text": [
      "2\n",
      "dette er en setning\n"
     ]
    }
   ],
   "source": [
    "tall = 2\n",
    "setning = \"dette er en setning\"\n",
    "print(tall)\n",
    "print(setning)"
   ]
  },
  {
   "cell_type": "markdown",
   "metadata": {},
   "source": [
    "Med variabler kan vi gjøre mattematik.\n",
    "Eksempelvis så kan vi plusse sammen verdien til to variabler og lagre dette i en tredje variabel. \n",
    "\n",
    "Regneartene er \"som vanlige\". <br>\n",
    "\\+ er addisjon (pluss)<br>\n",
    "\\- er subtraksjon (minus)<br>\n",
    "\\* er multiplikasjon (gange)<br>\n",
    "\\/ er divisjon (deling)\n",
    "\n",
    "vi kan også regne med tall som ikke er lagret i en variabel."
   ]
  },
  {
   "cell_type": "code",
   "execution_count": 2,
   "metadata": {},
   "outputs": [
    {
     "name": "stdout",
     "output_type": "stream",
     "text": [
      "8\n"
     ]
    }
   ],
   "source": [
    "tall1 = 5\n",
    "tall2 = 3\n",
    "tall3 = tall1 + tall2\n",
    "print(tall3)"
   ]
  },
  {
   "cell_type": "markdown",
   "metadata": {},
   "source": [
    "# Oppgaver:\n",
    "**Oppgave a:** Endre koden ovenfor slik at du regner ut tall1 - tall2. <br>\n",
    "**Oppgave b:** Endre koden til å regne ut 15\\*7 <br>\n",
    "**Oppgave c:** Lag en ny variabel, og lag en kode som regner ut hva summen av tre tall blir.<br>\n",
    "**Oppgave d:** Hva tror du resultatet av programmet under blir? "
   ]
  },
  {
   "cell_type": "code",
   "execution_count": null,
   "metadata": {},
   "outputs": [],
   "source": [
    "a=3-1\n",
    "b=6\n",
    "c=a*b\n",
    "print(c)"
   ]
  },
  {
   "cell_type": "markdown",
   "metadata": {},
   "source": [
    "## Valg\n",
    "I koden vår så kan vi skrive inn valg. Valgene gjør koden etter en betingelse vi gir den <br>\n",
    "Et valg skriver vi med koden:<br>\n",
    "\n",
    "<code> if(betingelse):\n",
    "    kode som kjører om betingelsen er sann.\n",
    "else:\n",
    "    kode som kjører hvis betingelsen ikke er sann. </code>\n",
    "    \n",
    "\n",
    "En vanlig betingelse er å se om et tall er større enn et annet tall. <br>\n",
    "tall1 > tall2 <br> <br>\n",
    "\n",
    "For å lage betingelser bruker vi:<br>\n",
    "Større enn:  > <br>\n",
    "Større enn eller lik: >=<br>\n",
    "Mindre enn: <<br>\n",
    "Mindre enn eller lik: <=<br>\n",
    "Helt lik: ==<br>"
   ]
  },
  {
   "cell_type": "code",
   "execution_count": 5,
   "metadata": {},
   "outputs": [
    {
     "name": "stdout",
     "output_type": "stream",
     "text": [
      "usant!\n"
     ]
    }
   ],
   "source": [
    "if (1<=2):\n",
    "    print(\"sant!\")\n",
    "else:\n",
    "    print(\"usant!\")\n",
    "# hva blir resultatet av denne if-setningen?    "
   ]
  },
  {
   "cell_type": "markdown",
   "metadata": {},
   "source": [
    "# Oppgave\n",
    "I kodeblokken nedenfor skriv en if-setning som sier om variabelen tall1 er større enn variabelen tall2. <br> Om ikke skal koden skrive ut at tall1 er mindre enn tall2. \n",
    "<br> Velg ulike verdier for variablene og sjekk om programmet fungerer som ønsket. "
   ]
  },
  {
   "cell_type": "code",
   "execution_count": null,
   "metadata": {},
   "outputs": [],
   "source": [
    "#Skriv din kode her\n"
   ]
  },
  {
   "cell_type": "markdown",
   "metadata": {},
   "source": [
    "# Input\n",
    "Vi kan ta inn input fra brukeren av programmet vårt med funksjonen: input().\n",
    "\n",
    "input() funksjonen returnerer i utgangspunktet en tekst, som er den teksten brukeren skrev inn i inputfeltet. <br> Om vi ønsker det kan vi skrive en beskjed in i input, slik: input(\"beskjed\").\n",
    "\n",
    "Vi kan gjøre om fra tekst til heltall ved å bruke funksjonen int(tall). Int står for integer, som er engelsk for heltall. \n",
    "Vi kan gjøre om til et desimaltall også, et såkalt flyttall, da bruker vi float(tall). \n",
    "\n",
    "**Flyttall** i python: for å få et desimaltall må vi bruke . og ikke , som \"desimaltegn\". \n",
    "<br> eksempelvis 3.0 er et desimaltall(flyttall), 3 er et heltall.\n",
    "\n",
    "Hva gjør koden nedenfor?\n"
   ]
  },
  {
   "cell_type": "code",
   "execution_count": null,
   "metadata": {},
   "outputs": [],
   "source": [
    "print(\"Hvor gammel er du?\") #Skriver ut tekststrengen Hvor gammmel er du?\n",
    "alder = int(input())  #Henter inn en verdi som brukeren skriver inn, gjør den om til et heltall(integer) og legger den i variabelen alder. \n",
    "if(alder >=16):  # Hvis alder er større eller lik 16\n",
    "    print(\"Du er gammel nok til å øvelseskjøre dersom du har tatt trafikalt grunnkurs\")\n",
    "else: #Hvis ikke\n",
    "    print(\"Du er ikke gammel nok til å øvelseskjøre enda\")\n"
   ]
  },
  {
   "cell_type": "markdown",
   "metadata": {},
   "source": [
    "# Oppgave\n",
    "Under skriv en kode som tar inn alderen til en person og avgjør om personen er gammel nok til å kjøpe alkohol i Norge.\n"
   ]
  },
  {
   "cell_type": "code",
   "execution_count": null,
   "metadata": {},
   "outputs": [],
   "source": [
    "#Skriv din kode her\n"
   ]
  },
  {
   "cell_type": "markdown",
   "metadata": {},
   "source": [
    "# Løkker\n",
    "\n",
    "Nå skal vi jobbe litt med løkker. <br>\n",
    "En for løkke går gjennom tallene in range (i rekkevidde) det man skriver i parantesen. Kjør koden under å se hva som skjer. "
   ]
  },
  {
   "cell_type": "code",
   "execution_count": 2,
   "metadata": {},
   "outputs": [
    {
     "name": "stdout",
     "output_type": "stream",
     "text": [
      "0\n",
      "1\n",
      "2\n",
      "3\n",
      "4\n",
      "5\n",
      "6\n",
      "7\n",
      "8\n",
      "9\n"
     ]
    }
   ],
   "source": [
    "for i in range(10):\n",
    "    print(i)\n",
    "    #Her "
   ]
  },
  {
   "cell_type": "markdown",
   "metadata": {},
   "source": [
    "Det som skjer i en forløkke er at variabelen *i*  får ulike verdier. Disse verdiene bestemmes av det vi skriver etter *in*, i eksempelet ovenfor er det range(1,10) som gir verdier til i."
   ]
  },
  {
   "cell_type": "markdown",
   "metadata": {},
   "source": [
    "**IKKE KJØR KODEN UNDER**\n",
    "Hva tror du skjer hvis vi kjører koden under? "
   ]
  },
  {
   "cell_type": "code",
   "execution_count": 3,
   "metadata": {},
   "outputs": [
    {
     "name": "stdout",
     "output_type": "stream",
     "text": [
      "0 3\n",
      "1 5\n",
      "2 7\n",
      "3 9\n",
      "4 11\n",
      "5 13\n",
      "6 15\n",
      "7 17\n",
      "8 19\n",
      "9 21\n"
     ]
    }
   ],
   "source": [
    "for i in range(0,10):\n",
    "    print(i,i*2+3)\n",
    "\n"
   ]
  },
  {
   "cell_type": "markdown",
   "metadata": {},
   "source": [
    "\n",
    "\n",
    "\n",
    "range() er en funksjon som tar in mellom 1 og 3 tall. Vi kaller disse tallene *argumenter*. <br> Disse argumentene skiller vi med , det er derfor vi må bruke . for å lage desimaltall i pyton. <br> \n",
    "De tre argumentene vi kan gi til range er *start*, *stopp* og *steg*. <br>\n",
    "* range(5) gir tallene fra 0 til 4. 5 er altså stopp verdien. <br>\n",
    "* range(0,9) gir tallene fra 0 til 8. 0 er start verdien og 9 er stopp verdien.  <br>\n",
    "* range(0,10,2) gir tallene fra 0 til 9, men teller to tall av gangen. Vi får dermed tallene 0,2,4,6,8. "
   ]
  },
  {
   "cell_type": "markdown",
   "metadata": {},
   "source": [
    "# Oppgave\n",
    "1. Skriv en kode som skriver ut tallene fra 0 til 100.\n",
    "2. Endre koden slik at du skriver ut tallene 0 til 50. \n",
    "3. Endre koden slik at du skriver ut tallene 0 til 50, men kun hvert tiende tall. "
   ]
  },
  {
   "cell_type": "code",
   "execution_count": null,
   "metadata": {},
   "outputs": [],
   "source": [
    "# skriv din kode her"
   ]
  },
  {
   "cell_type": "markdown",
   "metadata": {},
   "source": [
    "I eksempelet ovenfor, så vi at også print() kan ta inn flere arumenter. <br> Dette gjør at vi kan skrive ut flere verdier på samme linje. <br> Prøv dette: "
   ]
  },
  {
   "cell_type": "code",
   "execution_count": null,
   "metadata": {},
   "outputs": [],
   "source": []
  },
  {
   "cell_type": "markdown",
   "metadata": {},
   "source": [
    "# Oppgave\n",
    "Skriv en kode som skriver ut de ti første x-verdiene og y-verdiene for funksjonen $x^2-3$.\n",
    "\n",
    "<br>*hint: bruk* \\*\\*  *2 for å få opphøyd i to.*"
   ]
  },
  {
   "cell_type": "code",
   "execution_count": 2,
   "metadata": {},
   "outputs": [],
   "source": [
    "#Skriv din kode her\n"
   ]
  },
  {
   "cell_type": "markdown",
   "metadata": {},
   "source": [
    "# Oppgave\n",
    " \n",
    "Nå kan vi begynne å gjøre matematikk i Python. Kaja vant 100.000 kroner på et flaxlodd. Hun setter pengene på høyrentekonto med 4% rente. Skriv en kode som skriver hvor mye Kaja har på kontoen hvert av de neste 10 årene."
   ]
  },
  {
   "cell_type": "code",
   "execution_count": null,
   "metadata": {},
   "outputs": [],
   "source": [
    "#Skriv din kode her\n"
   ]
  },
  {
   "cell_type": "markdown",
   "metadata": {},
   "source": [
    "# Oppgave\n",
    "Forrige oppgave kan man gjøre på kalkulator og relativt fort. Men nå blir det litt vanskeligere.<br>\n",
    "Maja har nå også vunnet 100.000 kroner som hun starter med å sette inn på konto. Men nå vil hun i tillegg sette inn 10.000 kroner på starten av hvert år på kontoen i ti år. Maja får også 4% rente på det hun har på kontoen. Skriv ut hvor mye Maja har på kontoen hvert år de neste 10 årene."
   ]
  },
  {
   "cell_type": "code",
   "execution_count": null,
   "metadata": {},
   "outputs": [],
   "source": [
    "#Skriv din kode her\n"
   ]
  },
  {
   "cell_type": "markdown",
   "metadata": {},
   "source": [
    "# Gratulerer!  \n",
    "Du er nå ferdig med Python 1-2-3 del 1!"
   ]
  }
 ],
 "metadata": {
  "kernelspec": {
   "display_name": "Python 3 (ipykernel)",
   "language": "python",
   "name": "python3"
  },
  "language_info": {
   "codemirror_mode": {
    "name": "ipython",
    "version": 3
   },
   "file_extension": ".py",
   "mimetype": "text/x-python",
   "name": "python",
   "nbconvert_exporter": "python",
   "pygments_lexer": "ipython3",
   "version": "3.9.12"
  }
 },
 "nbformat": 4,
 "nbformat_minor": 2
}
