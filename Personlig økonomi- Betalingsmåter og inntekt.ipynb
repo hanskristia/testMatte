{
 "cells": [
  {
   "cell_type": "markdown",
   "id": "414bef9a",
   "metadata": {},
   "source": [
    "# Personlig økonomi\n",
    "## Betalingsmåter og inntekt\n",
    "Eksempel 1, 2, 3 og 4 samt noen oppgaver. <br>\n",
    "Timelønn, Akkordlønn, Arbeidsavtale og Feriepenger\n"
   ]
  },
  {
   "cell_type": "markdown",
   "id": "c756e817",
   "metadata": {},
   "source": [
    "**Eksempel 1**\n",
    "Erik har helgejobb i en sportsbutikk. Han tjener 120 kr per time. I september har han til sammen arbeidet 27.5 timer. \n",
    "\n",
    "Hvor mye penger tjener Erik på jobben i september?"
   ]
  },
  {
   "cell_type": "code",
   "execution_count": null,
   "id": "d7e583b4",
   "metadata": {},
   "outputs": [],
   "source": [
    "# løsning\n",
    "\n",
    "#For å regne ut hvor mye Erik har tjent i september\n",
    "#må vi multiplisere timelønna med antall timer han har jobbet.\n",
    "\n",
    "timelønn\n",
    "timerArbeidet\n",
    "\n"
   ]
  },
  {
   "cell_type": "markdown",
   "id": "c2fb13dc",
   "metadata": {},
   "source": [
    "**Eksempel 2**\n",
    "Lotte har fått tilbud om å male huset til navoen. \n",
    "Naboen har satt opp følgende forslag til avtale:\n",
    "\n",
    "*Fast betaling  10 000,- kr*\n",
    "*Timelønn 140,- kr*\n",
    "\n",
    "Hvor mange timer må Lotte bruke på å male huset for at det skal lønne seg med timelønn? "
   ]
  },
  {
   "cell_type": "code",
   "execution_count": null,
   "id": "c13d5d0f",
   "metadata": {},
   "outputs": [],
   "source": [
    "# Løsning\n",
    "#Tilbudet om fast betaling er 10 000kr. \n",
    "#Hvis vi deler dette på timelønna finner vi ut hvor mange timer Lotte må male for å tjene det samme:\n",
    "\n",
    "fastBetaling\n",
    "timeLønn\n"
   ]
  },
  {
   "cell_type": "markdown",
   "id": "297d3c62",
   "metadata": {},
   "source": [
    "**Eksempel 3** \n",
    "I arbeidsavtalen til Sakary står det: \n",
    "\n",
    "- Lønn er 145 kr per time <br>\n",
    "- For arbeid mellom kl. 17.00 og 20.00 gis det 30% tillegg <br>\n",
    "- For arbeid etter kl. 20.00 gis det 50% tillegg <br>\n",
    "- På søndag gis det 100% tillegg i lønna.*\n",
    "\n",
    "I oktober måned har Sakary arbeidet ni timer dagtid, to onsdager fra kl.17.00 til 19.00, seks timer på kveld etter kl.20.00 og 12 timer på søndager.\n",
    "\n",
    "Bruk *programmering** og sett opp en oversikt over hvor mye Sakary tjener i oktober\n",
    "\n",
    "\\* I boka står det bruk regneark til å lage en oversikt. Excel egner seg noe bedre til akkurat denne typen oppgaver, å lage tabell oversikter. Men vi gjør den med programmering her for å øve oss på det, se side 63 i boka for excel løsningen.\n",
    "\n",
    "\n"
   ]
  },
  {
   "cell_type": "code",
   "execution_count": null,
   "id": "35654551",
   "metadata": {},
   "outputs": [],
   "source": [
    "# Løsning\n",
    "timelønn\n",
    "satsEttermiddag\n",
    "satsKveld\n",
    "satsSøndag\n",
    "\n",
    "timer\n",
    "timerEttermiddag\n",
    "timerKveld\n",
    "timerSøndag\n",
    "\n",
    "\n"
   ]
  },
  {
   "cell_type": "markdown",
   "id": "c92b71ae",
   "metadata": {},
   "source": [
    "**Eksempel 4**\n",
    "\n",
    "Sofie har helgejobb på sykehjemmet. På siste lønnsslipp i fjor var feriepengegrunnlaget oppgitt til 49 358 kr. \n",
    "\n",
    "Sofie har rett på 10,2% i *feriepenger*.\n",
    "\n",
    "Hvor mye får Sofie utbetalt i feriepenger i år? "
   ]
  },
  {
   "cell_type": "code",
   "execution_count": null,
   "id": "285bb0e8",
   "metadata": {},
   "outputs": [],
   "source": [
    "feriepengeGrunnlag\n",
    "feriepengeProsent"
   ]
  },
  {
   "cell_type": "markdown",
   "id": "addfc700",
   "metadata": {},
   "source": [
    "# Oppgaver Betalingsmåter og inntekt\n",
    "## 2.1\n",
    "\n",
    "Linn har sommerjobb på møbelbutikken. <br>\n",
    "Hun tjener 109kr per time. I juni jobber hun 20 timer og i juli 134 timer.\n",
    "\n",
    "Hvor mye penger tjener hun på sommerjobben?"
   ]
  },
  {
   "cell_type": "code",
   "execution_count": null,
   "id": "e279dba3",
   "metadata": {},
   "outputs": [],
   "source": [
    "timelønn\n",
    "timerJuni\n",
    "timerJuli\n"
   ]
  },
  {
   "cell_type": "markdown",
   "id": "e4330467",
   "metadata": {},
   "source": [
    "## 2.2\n",
    "Ali skal klippe gresset på idrettsplassen i løpet av sesongen. Han får 5000 kr for jobben. \n",
    "\n",
    "#### a\n",
    "Hvor stor blir timelønna til Ali hvis han bruker 20 timer på jobben?\n",
    "\n",
    "#### b \n",
    "Hvor stor bil timelønna hvis han bruker 25 timer på jobben?\n"
   ]
  },
  {
   "cell_type": "code",
   "execution_count": null,
   "id": "374f4622",
   "metadata": {},
   "outputs": [],
   "source": []
  },
  {
   "cell_type": "markdown",
   "id": "87bf91ba",
   "metadata": {},
   "source": [
    "## 2.3 \n",
    "Lyder selger markiser til solskjerming og har prestasjonslønn. Avtalen gir Lyder fast bruttolønn på 30 000 kr per måned, og i tillegg får han provisjon på 2% av markisesalget. I mai måned selger han markiser for 375 000 kr. \n",
    "\n",
    "Hva blir bruttolønna til Lyder i mai?"
   ]
  },
  {
   "cell_type": "code",
   "execution_count": null,
   "id": "7d7550d6",
   "metadata": {},
   "outputs": [],
   "source": []
  },
  {
   "cell_type": "markdown",
   "id": "473cedb6",
   "metadata": {},
   "source": [
    "### Se boka s.65 for flere oppgaver\n",
    "bruk valgfritt hjelpemiddler for å løse oppavene, men gjerne bruk Python. \n"
   ]
  },
  {
   "cell_type": "markdown",
   "id": "b1a47bf6",
   "metadata": {},
   "source": [
    "<div class=\"alert alert-block alert-info\">\n",
    "Vil du legge til flere Python bokser velger du <b>Insert</b> ovenfor og så <b>Cell Below</b>\n",
    "</div>"
   ]
  },
  {
   "cell_type": "code",
   "execution_count": 6,
   "id": "1613dc36",
   "metadata": {},
   "outputs": [
    {
     "name": "stdout",
     "output_type": "stream",
     "text": [
      "27732.600000000002\n"
     ]
    }
   ],
   "source": [
    "startbeløp = 6800\n",
    "rente = 5 #5%\n",
    "vekstfaktor=1+rente/100\n",
    "\n",
    "# Vi sparer et fast beløp i året:\n",
    "fastBeløp=6000\n",
    "\n",
    "# år 0\n",
    "konto = startbeløp + 6000\n",
    "konto = vekstfaktor*konto\n",
    "# år 1\n",
    "konto = konto + 6000\n",
    "konto = vekstfaktor*konto\n",
    "#år 2\n",
    "konto = konto + 6000\n",
    "konto = vekstfaktor*konto\n",
    "\n",
    "\n",
    "print(konto)"
   ]
  },
  {
   "cell_type": "code",
   "execution_count": null,
   "id": "28fff4b3",
   "metadata": {},
   "outputs": [],
   "source": []
  }
 ],
 "metadata": {
  "kernelspec": {
   "display_name": "Python 3 (ipykernel)",
   "language": "python",
   "name": "python3"
  },
  "language_info": {
   "codemirror_mode": {
    "name": "ipython",
    "version": 3
   },
   "file_extension": ".py",
   "mimetype": "text/x-python",
   "name": "python",
   "nbconvert_exporter": "python",
   "pygments_lexer": "ipython3",
   "version": "3.9.12"
  }
 },
 "nbformat": 4,
 "nbformat_minor": 5
}
